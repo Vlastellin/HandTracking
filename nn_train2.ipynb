{
  "nbformat": 4,
  "nbformat_minor": 0,
  "metadata": {
    "colab": {
      "name": "External_data_Local_Files_Drive_Sheets_and_Cloud_Storage_1.ipynb",
      "provenance": [],
      "collapsed_sections": [],
      "toc_visible": true,
      "machine_shape": "hm",
      "include_colab_link": true
    },
    "kernelspec": {
      "display_name": "Python 3",
      "name": "python3"
    }
  },
  "cells": [
    {
      "cell_type": "markdown",
      "metadata": {
        "id": "view-in-github",
        "colab_type": "text"
      },
      "source": [
        "<a href=\"https://colab.research.google.com/github/Vlastellin/HandTracking/blob/master/nn_train2.ipynb\" target=\"_parent\"><img src=\"https://colab.research.google.com/assets/colab-badge.svg\" alt=\"Open In Colab\"/></a>"
      ]
    },
    {
      "cell_type": "code",
      "metadata": {
        "colab_type": "code",
        "id": "D78AM1fFt2ty",
        "outputId": "87d8d5dc-a91b-4705-fd88-188a9d0067c0",
        "colab": {
          "base_uri": "https://localhost:8080/",
          "height": 34
        }
      },
      "source": [
        "drive.flush_and_unmount()\n",
        "print('All changes made in this colab session should now be visible in Drive.')"
      ],
      "execution_count": 0,
      "outputs": [
        {
          "output_type": "stream",
          "text": [
            "All changes made in this colab session should now be visible in Drive.\n"
          ],
          "name": "stdout"
        }
      ]
    },
    {
      "cell_type": "code",
      "metadata": {
        "id": "tl5adsTc4VxC",
        "colab_type": "code",
        "colab": {
          "base_uri": "https://localhost:8080/",
          "height": 810
        },
        "outputId": "f47ab256-6a87-499e-d4ea-f0fcb3fdff15"
      },
      "source": [
        "from tensorflow.keras import layers\n",
        "from tensorflow.keras import Input\n",
        "from tensorflow.keras.models import Model\n",
        "import pickle\n",
        "import os\n",
        "import imageio\n",
        "import numpy as np\n",
        "from tensorflow.keras.preprocessing import image\n",
        "\n",
        "def preprocess_image(image_path):\n",
        "  img = image.load_img(image_path)\n",
        "  img = image.img_to_array(img)\n",
        "  #print(img.shape)\n",
        "  img = np.expand_dims(img, axis=0)\n",
        "  #print(img.shape)\n",
        "  #img = inception_v3.preprocess_input(img)\n",
        "  return img\n",
        "\n",
        "base_dir = '/content/drive/My Drive/find_3d_points'\n",
        "\n",
        "input_img = Input(shape=(480,640, 3))\n",
        "x = layers.Conv2D(32, (3, 3), activation='relu')(input_img)\n",
        "x = layers.MaxPooling2D((2, 2))(x)\n",
        "x = layers.Conv2D(64, (3, 3), activation='relu')(x)\n",
        "x = layers.MaxPooling2D((2, 2))(x)\n",
        "x = layers.Conv2D(128, (3, 3), activation='relu')(x)\n",
        "x = layers.MaxPooling2D((2, 2))(x)\n",
        "x = layers.Conv2D(128, (3, 3), activation='relu')(x)\n",
        "x = layers.MaxPooling2D((2, 2))(x)\n",
        "x = layers.Conv2D(128, (3, 3), activation='relu')(x)\n",
        "x = layers.MaxPooling2D((2, 2))(x)\n",
        "x = layers.Flatten()(x)\n",
        "x = layers.Dense(512)(x)\n",
        "p1 = layers.Dense(3, name='p1')(x)\n",
        "p2 = layers.Dense(3, name='p2')(x)\n",
        "p3 = layers.Dense(3, name='p3')(x)\n",
        "model = Model([input_img],[p1, p2, p3])\n",
        "model.compile(optimizer='rmsprop',loss=['mae', 'mae', 'mae'])\n",
        "#data\n",
        "imgs=[]\n",
        "koords=[[],[],[]]\n",
        "with open(os.path.join(base_dir, 'dataset_list.pickle'), 'rb') as f:\n",
        "  l= pickle.load(f)\n",
        "for i,koord in enumerate(l[1]):\n",
        "  img_path=os.path.join(base_dir, 'dataset/'+str(i)+'.jpg')\n",
        "  #image_raw = imageio.imread(img_path)\n",
        "  #image_v = np.expand_dims((image_raw.astype('float') / 255.0) - 0.5, 0)\n",
        "  imgs.append(preprocess_image(img_path)[0])\n",
        "  #print(image_raw.shape)\n",
        "  temp_koords=np.array([np.array([koord[0][0], koord[0][1],koord[0][2]]), np.array([koord[1][0], koord[1][1],koord[1][2]]),np.array([koord[2][0], koord[2][1],koord[2][2]])])\n",
        "  for j,k in enumerate(temp_koords):\n",
        "    koords[j].append(k)\n",
        "  if i==150:\n",
        "    break\n",
        "\n",
        "#for k in koords:\n",
        "# k= np.array(k)\n",
        "#print(koords[0])\n",
        "imgs = np.array(imgs)\n",
        "print(imgs.shape)\n",
        "print(imgs.ndim)\n",
        "koords=np.array([koords[0], koords[1], koords[2]])\n",
        "print(type(koords[0]))\n",
        "#print(np.array(koords))\n",
        "print(koords.shape)\n",
        "from tensorflow.keras.utils import plot_model\n",
        "#plot_model(model, to_file=os.path.join(base_dir,'model.png'), show_shapes=True)\n",
        "#model.fit(x=imgs, y={'p0_x':koords[0], 'p0_y':koords[1], 'p0_z':koords[2],'p5_x':koords[3], 'p5_y':koords[4], 'p5_z':koords[5],'p9_x':koords[6], 'p9_y':koords[7], 'p9_z':koords[8]},epochs=2, batch_size=64)\n",
        "model.fit(x=(imgs), y={'p1':koords[0], 'p2':koords[1], 'p3':koords[2]},epochs=20, validation_split=0.1, batch_size=150)"
      ],
      "execution_count": 14,
      "outputs": [
        {
          "output_type": "stream",
          "text": [
            "(151, 480, 640, 3)\n",
            "4\n",
            "<class 'numpy.ndarray'>\n",
            "(3, 151, 3)\n",
            "Train on 135 samples, validate on 16 samples\n",
            "Epoch 1/20\n",
            "135/135 [==============================] - 57s 419ms/sample - loss: 240.5696 - p1_loss: 110.3859 - p2_loss: 73.9776 - p3_loss: 56.2060 - val_loss: 53715.4180 - val_p1_loss: 20414.3828 - val_p2_loss: 14398.1553 - val_p3_loss: 18902.8789\n",
            "Epoch 2/20\n",
            "135/135 [==============================] - 54s 401ms/sample - loss: 53491.4062 - p1_loss: 20328.6855 - p2_loss: 14339.7373 - p3_loss: 18822.9824 - val_loss: 185.0320 - val_p1_loss: 46.9542 - val_p2_loss: 65.0838 - val_p3_loss: 72.9940\n",
            "Epoch 3/20\n",
            "135/135 [==============================] - 53s 396ms/sample - loss: 168.3425 - p1_loss: 44.2501 - p2_loss: 57.5834 - p3_loss: 66.5091 - val_loss: 3142.6099 - val_p1_loss: 1328.3875 - val_p2_loss: 619.9129 - val_p3_loss: 1194.3097\n",
            "Epoch 4/20\n",
            "135/135 [==============================] - 54s 400ms/sample - loss: 3140.8962 - p1_loss: 1325.9534 - p2_loss: 621.4142 - p3_loss: 1193.5287 - val_loss: 420.0756 - val_p1_loss: 143.1893 - val_p2_loss: 112.5353 - val_p3_loss: 164.3510\n",
            "Epoch 5/20\n",
            "135/135 [==============================] - 55s 404ms/sample - loss: 404.3688 - p1_loss: 138.4064 - p2_loss: 107.2162 - p3_loss: 158.7462 - val_loss: 232.0092 - val_p1_loss: 75.8442 - val_p2_loss: 79.5362 - val_p3_loss: 76.6288\n",
            "Epoch 6/20\n",
            "135/135 [==============================] - 53s 394ms/sample - loss: 217.6332 - p1_loss: 71.3920 - p2_loss: 74.8448 - p3_loss: 71.3964 - val_loss: 173.6831 - val_p1_loss: 52.6723 - val_p2_loss: 68.6107 - val_p3_loss: 52.4001\n",
            "Epoch 7/20\n",
            "135/135 [==============================] - 54s 398ms/sample - loss: 160.1481 - p1_loss: 49.2574 - p2_loss: 63.9876 - p3_loss: 46.9031 - val_loss: 77.9966 - val_p1_loss: 30.2737 - val_p2_loss: 40.0914 - val_p3_loss: 7.6314\n",
            "Epoch 8/20\n",
            "135/135 [==============================] - 55s 405ms/sample - loss: 78.2842 - p1_loss: 33.3407 - p2_loss: 33.6143 - p3_loss: 11.3293 - val_loss: 194.7456 - val_p1_loss: 84.6403 - val_p2_loss: 52.5162 - val_p3_loss: 57.5891\n",
            "Epoch 9/20\n",
            "135/135 [==============================] - 54s 401ms/sample - loss: 178.8065 - p1_loss: 80.1369 - p2_loss: 47.4601 - p3_loss: 51.2095 - val_loss: 142.9230 - val_p1_loss: 51.2388 - val_p2_loss: 36.7906 - val_p3_loss: 54.8936\n",
            "Epoch 10/20\n",
            "135/135 [==============================] - 54s 398ms/sample - loss: 140.7890 - p1_loss: 46.9010 - p2_loss: 43.8009 - p3_loss: 50.0870 - val_loss: 70.5306 - val_p1_loss: 23.4294 - val_p2_loss: 25.3579 - val_p3_loss: 21.7433\n",
            "Epoch 11/20\n",
            "135/135 [==============================] - 53s 396ms/sample - loss: 57.0892 - p1_loss: 19.3868 - p2_loss: 21.1164 - p3_loss: 16.5859 - val_loss: 254.6364 - val_p1_loss: 73.2748 - val_p2_loss: 72.7313 - val_p3_loss: 108.6304\n",
            "Epoch 12/20\n",
            "135/135 [==============================] - 54s 398ms/sample - loss: 271.6774 - p1_loss: 78.9762 - p2_loss: 78.4572 - p3_loss: 114.2441 - val_loss: 176.1506 - val_p1_loss: 63.8099 - val_p2_loss: 55.6549 - val_p3_loss: 56.6858\n",
            "Epoch 13/20\n",
            "135/135 [==============================] - 54s 402ms/sample - loss: 160.5641 - p1_loss: 59.4140 - p2_loss: 50.5158 - p3_loss: 50.6343 - val_loss: 94.0624 - val_p1_loss: 31.9495 - val_p2_loss: 31.1221 - val_p3_loss: 30.9908\n",
            "Epoch 14/20\n",
            "135/135 [==============================] - 54s 398ms/sample - loss: 76.4856 - p1_loss: 26.7775 - p2_loss: 25.1738 - p3_loss: 24.5344 - val_loss: 113.4621 - val_p1_loss: 39.3957 - val_p2_loss: 33.1509 - val_p3_loss: 40.9156\n",
            "Epoch 15/20\n",
            "135/135 [==============================] - 54s 399ms/sample - loss: 131.2330 - p1_loss: 43.9327 - p2_loss: 39.6618 - p3_loss: 47.6384 - val_loss: 172.3341 - val_p1_loss: 66.8414 - val_p2_loss: 53.7303 - val_p3_loss: 51.7624\n",
            "Epoch 16/20\n",
            "135/135 [==============================] - 53s 395ms/sample - loss: 157.7733 - p1_loss: 62.4440 - p2_loss: 48.6420 - p3_loss: 46.6874 - val_loss: 83.9387 - val_p1_loss: 27.7564 - val_p2_loss: 29.0166 - val_p3_loss: 27.1657\n",
            "Epoch 17/20\n",
            "135/135 [==============================] - 54s 399ms/sample - loss: 66.5771 - p1_loss: 23.8405 - p2_loss: 21.8274 - p3_loss: 20.9092 - val_loss: 135.6080 - val_p1_loss: 49.5505 - val_p2_loss: 37.4976 - val_p3_loss: 48.5600\n",
            "Epoch 18/20\n",
            "135/135 [==============================] - 54s 398ms/sample - loss: 153.4198 - p1_loss: 53.4009 - p2_loss: 45.5017 - p3_loss: 54.5172 - val_loss: 163.8143 - val_p1_loss: 58.3631 - val_p2_loss: 57.8883 - val_p3_loss: 47.5630\n",
            "Epoch 19/20\n",
            "135/135 [==============================] - 55s 406ms/sample - loss: 144.6396 - p1_loss: 54.0035 - p2_loss: 49.4728 - p3_loss: 41.1633 - val_loss: 91.7930 - val_p1_loss: 33.8494 - val_p2_loss: 33.3192 - val_p3_loss: 24.6244\n",
            "Epoch 20/20\n",
            "135/135 [==============================] - 53s 396ms/sample - loss: 75.3097 - p1_loss: 29.6619 - p2_loss: 25.5541 - p3_loss: 20.0937 - val_loss: 71.9594 - val_p1_loss: 33.8085 - val_p2_loss: 18.5071 - val_p3_loss: 19.6438\n"
          ],
          "name": "stdout"
        },
        {
          "output_type": "execute_result",
          "data": {
            "text/plain": [
              "<tensorflow.python.keras.callbacks.History at 0x7f5efaa32e48>"
            ]
          },
          "metadata": {
            "tags": []
          },
          "execution_count": 14
        }
      ]
    },
    {
      "cell_type": "code",
      "metadata": {
        "id": "Ra9ZTdex5mh_",
        "colab_type": "code",
        "outputId": "93c1af14-45fd-4b39-bc3b-90de75dacf18",
        "colab": {
          "base_uri": "https://localhost:8080/",
          "height": 34
        }
      },
      "source": [
        "!pip install -U numpy\n"
      ],
      "execution_count": 0,
      "outputs": [
        {
          "output_type": "stream",
          "text": [
            "Requirement already up-to-date: numpy in /usr/local/lib/python3.6/dist-packages (1.17.4)\n"
          ],
          "name": "stdout"
        }
      ]
    },
    {
      "cell_type": "code",
      "metadata": {
        "id": "Dy2n7evr3dRP",
        "colab_type": "code",
        "outputId": "acff789c-e8ca-49ef-9033-1781bd5dc9b2",
        "colab": {
          "base_uri": "https://localhost:8080/",
          "height": 121
        }
      },
      "source": [
        "from google.colab import drive\n",
        "drive.mount('/content/drive')"
      ],
      "execution_count": 2,
      "outputs": [
        {
          "output_type": "stream",
          "text": [
            "Go to this URL in a browser: https://accounts.google.com/o/oauth2/auth?client_id=947318989803-6bn6qk8qdgf4n4g3pfee6491hc0brc4i.apps.googleusercontent.com&redirect_uri=urn%3aietf%3awg%3aoauth%3a2.0%3aoob&response_type=code&scope=email%20https%3a%2f%2fwww.googleapis.com%2fauth%2fdocs.test%20https%3a%2f%2fwww.googleapis.com%2fauth%2fdrive%20https%3a%2f%2fwww.googleapis.com%2fauth%2fdrive.photos.readonly%20https%3a%2f%2fwww.googleapis.com%2fauth%2fpeopleapi.readonly\n",
            "\n",
            "Enter your authorization code:\n",
            "··········\n",
            "Mounted at /content/drive\n"
          ],
          "name": "stdout"
        }
      ]
    }
  ]
}